{
 "cells": [
  {
   "cell_type": "code",
   "execution_count": 1,
   "id": "dd4056c0",
   "metadata": {},
   "outputs": [
    {
     "name": "stdout",
     "output_type": "stream",
     "text": [
      "/Users/harris/Documents/Projects/tinygrad\n"
     ]
    }
   ],
   "source": [
    "%cd ../\n",
    "#!/usr/bin/env python3\n",
    "import numpy as np\n",
    "from PIL import Image\n",
    "\n",
    "from tinygrad.nn import optim\n",
    "from tinygrad.helpers import getenv\n",
    "from extra.training import train, evaluate"
   ]
  },
  {
   "cell_type": "code",
   "execution_count": 2,
   "id": "ccbd546d",
   "metadata": {},
   "outputs": [],
   "source": [
    "from models.maskrcnn import maskrcnn_resnet50"
   ]
  },
  {
   "cell_type": "code",
   "execution_count": 3,
   "id": "673cb520",
   "metadata": {},
   "outputs": [
    {
     "ename": "NameError",
     "evalue": "name 'load_url' is not defined",
     "output_type": "error",
     "traceback": [
      "\u001b[0;31m---------------------------------------------------------------------------\u001b[0m",
      "\u001b[0;31mNameError\u001b[0m                                 Traceback (most recent call last)",
      "Input \u001b[0;32mIn [3]\u001b[0m, in \u001b[0;36m<cell line: 1>\u001b[0;34m()\u001b[0m\n\u001b[0;32m----> 1\u001b[0m model \u001b[38;5;241m=\u001b[39m \u001b[43mmaskrcnn_resnet50\u001b[49m\u001b[43m(\u001b[49m\u001b[38;5;28;43;01mTrue\u001b[39;49;00m\u001b[43m,\u001b[49m\u001b[43m \u001b[49m\u001b[38;5;241;43m32\u001b[39;49m\u001b[43m \u001b[49m\u001b[38;5;241;43m+\u001b[39;49m\u001b[43m \u001b[49m\u001b[38;5;241;43m1\u001b[39;49m\u001b[43m)\u001b[49m\n",
      "File \u001b[0;32m~/Documents/Projects/tinygrad/models/maskrcnn.py:175\u001b[0m, in \u001b[0;36mmaskrcnn_resnet50\u001b[0;34m(pretrained, num_classes, pretrained_backbone)\u001b[0m\n\u001b[1;32m    170\u001b[0m \u001b[38;5;28;01mif\u001b[39;00m pretrained:\n\u001b[1;32m    171\u001b[0m     model_urls \u001b[38;5;241m=\u001b[39m {\n\u001b[1;32m    172\u001b[0m         \u001b[38;5;124m'\u001b[39m\u001b[38;5;124mmaskrcnn_resnet50_fpn_coco\u001b[39m\u001b[38;5;124m'\u001b[39m:\n\u001b[1;32m    173\u001b[0m             \u001b[38;5;124m'\u001b[39m\u001b[38;5;124mhttps://download.pytorch.org/models/maskrcnn_resnet50_fpn_coco-bf2d0c1e.pth\u001b[39m\u001b[38;5;124m'\u001b[39m,\n\u001b[1;32m    174\u001b[0m     }\n\u001b[0;32m--> 175\u001b[0m     model_state_dict \u001b[38;5;241m=\u001b[39m \u001b[43mload_url\u001b[49m(model_urls[\u001b[38;5;124m'\u001b[39m\u001b[38;5;124mmaskrcnn_resnet50_fpn_coco\u001b[39m\u001b[38;5;124m'\u001b[39m])\n\u001b[1;32m    177\u001b[0m     pretrained_msd \u001b[38;5;241m=\u001b[39m \u001b[38;5;28mlist\u001b[39m(model_state_dict\u001b[38;5;241m.\u001b[39mvalues())\n\u001b[1;32m    178\u001b[0m     del_list \u001b[38;5;241m=\u001b[39m [i \u001b[38;5;28;01mfor\u001b[39;00m i \u001b[38;5;129;01min\u001b[39;00m \u001b[38;5;28mrange\u001b[39m(\u001b[38;5;241m265\u001b[39m, \u001b[38;5;241m271\u001b[39m)] \u001b[38;5;241m+\u001b[39m [i \u001b[38;5;28;01mfor\u001b[39;00m i \u001b[38;5;129;01min\u001b[39;00m \u001b[38;5;28mrange\u001b[39m(\u001b[38;5;241m273\u001b[39m, \u001b[38;5;241m279\u001b[39m)]\n",
      "\u001b[0;31mNameError\u001b[0m: name 'load_url' is not defined"
     ]
    }
   ],
   "source": [
    "model = maskrcnn_resnet50(True, 32 + 1)"
   ]
  },
  {
   "cell_type": "code",
   "execution_count": null,
   "id": "d796ac3e",
   "metadata": {},
   "outputs": [],
   "source": [
    "import tinygrad.mlops as mlops"
   ]
  },
  {
   "cell_type": "code",
   "execution_count": null,
   "id": "ab28c8e8",
   "metadata": {},
   "outputs": [],
   "source": [
    "mlops.Relu"
   ]
  },
  {
   "cell_type": "code",
   "execution_count": null,
   "id": "4cdb1d5b",
   "metadata": {},
   "outputs": [],
   "source": []
  }
 ],
 "metadata": {
  "kernelspec": {
   "display_name": "Python 3 (ipykernel)",
   "language": "python",
   "name": "python3"
  },
  "language_info": {
   "codemirror_mode": {
    "name": "ipython",
    "version": 3
   },
   "file_extension": ".py",
   "mimetype": "text/x-python",
   "name": "python",
   "nbconvert_exporter": "python",
   "pygments_lexer": "ipython3",
   "version": "3.9.12"
  }
 },
 "nbformat": 4,
 "nbformat_minor": 5
}
