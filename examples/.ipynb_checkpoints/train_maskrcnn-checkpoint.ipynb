{
 "cells": [
  {
   "cell_type": "code",
   "execution_count": 9,
   "id": "dd4056c0",
   "metadata": {},
   "outputs": [
    {
     "name": "stdout",
     "output_type": "stream",
     "text": [
      "/Users/harris/Documents\n"
     ]
    }
   ],
   "source": [
    "%cd ../\n",
    "#!/usr/bin/env python3\n",
    "import numpy as np\n",
    "import cv2\n",
    "from PIL import Image\n",
    "from tinygrad.tensor import Tensor\n",
    "from tinygrad.nn import optim\n",
    "from tinygrad.helpers import getenv\n",
    "from extra.training import train, evaluate\n",
    "\n",
    "def infer(model, img):\n",
    "  img = np.array(Image.fromarray(img).resize((608, 608)))\n",
    "  img = img[:,:,::-1].transpose((2,0,1))\n",
    "  img = img[np.newaxis,:,:,:]/255.0\n",
    "  prediction = model.forward(Tensor(img.astype(np.float32)))\n",
    "  return prediction"
   ]
  },
  {
   "cell_type": "code",
   "execution_count": 2,
   "id": "ccbd546d",
   "metadata": {},
   "outputs": [],
   "source": [
    "from models.maskrcnn import maskrcnn_resnet50"
   ]
  },
  {
   "cell_type": "code",
   "execution_count": 3,
   "id": "0b1c03b6",
   "metadata": {},
   "outputs": [
    {
     "name": "stdout",
     "output_type": "stream",
     "text": [
      "roi_heads.box_head.fc6.weight 'RoIHeads' object has no attribute 'box_head'\n",
      "roi_heads.box_head.fc6.bias 'RoIHeads' object has no attribute 'box_head'\n",
      "roi_heads.box_head.fc7.weight 'RoIHeads' object has no attribute 'box_head'\n",
      "roi_heads.box_head.fc7.bias 'RoIHeads' object has no attribute 'box_head'\n"
     ]
    }
   ],
   "source": [
    "model = maskrcnn_resnet50(True, 90 + 1)"
   ]
  },
  {
   "cell_type": "code",
   "execution_count": 10,
   "id": "931f4f44",
   "metadata": {},
   "outputs": [],
   "source": [
    "im = cv2.imread(\"/Users/harris/Downloads/image2.jpg\") "
   ]
  },
  {
   "cell_type": "code",
   "execution_count": null,
   "id": "84d2f774",
   "metadata": {},
   "outputs": [],
   "source": [
    "infer(model,im)"
   ]
  },
  {
   "cell_type": "code",
   "execution_count": null,
   "id": "167e6233",
   "metadata": {},
   "outputs": [],
   "source": []
  }
 ],
 "metadata": {
  "kernelspec": {
   "display_name": "Python 3 (ipykernel)",
   "language": "python",
   "name": "python3"
  },
  "language_info": {
   "codemirror_mode": {
    "name": "ipython",
    "version": 3
   },
   "file_extension": ".py",
   "mimetype": "text/x-python",
   "name": "python",
   "nbconvert_exporter": "python",
   "pygments_lexer": "ipython3",
   "version": "3.9.12"
  }
 },
 "nbformat": 4,
 "nbformat_minor": 5
}
