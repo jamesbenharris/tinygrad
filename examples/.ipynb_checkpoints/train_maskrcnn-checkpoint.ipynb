{
 "cells": [
  {
   "cell_type": "code",
   "execution_count": 1,
   "id": "dd4056c0",
   "metadata": {},
   "outputs": [
    {
     "name": "stdout",
     "output_type": "stream",
     "text": [
      "/Users/harris/Documents/Projects/tinygrad\n"
     ]
    }
   ],
   "source": [
    "%cd ../\n",
    "#!/usr/bin/env python3\n",
    "import numpy as np\n",
    "from PIL import Image\n",
    "\n",
    "from tinygrad.nn import optim\n",
    "from tinygrad.helpers import getenv\n",
    "from extra.training import train, evaluate"
   ]
  },
  {
   "cell_type": "code",
   "execution_count": 2,
   "id": "ccbd546d",
   "metadata": {},
   "outputs": [],
   "source": [
    "from models.maskrcnn import maskrcnn_resnet50"
   ]
  },
  {
   "cell_type": "code",
   "execution_count": 3,
   "id": "416fa976",
   "metadata": {},
   "outputs": [
    {
     "ename": "NameError",
     "evalue": "name 'ResNetFPN' is not defined",
     "output_type": "error",
     "traceback": [
      "\u001b[0;31m---------------------------------------------------------------------------\u001b[0m",
      "\u001b[0;31mNameError\u001b[0m                                 Traceback (most recent call last)",
      "Input \u001b[0;32mIn [3]\u001b[0m, in \u001b[0;36m<cell line: 1>\u001b[0;34m()\u001b[0m\n\u001b[0;32m----> 1\u001b[0m model \u001b[38;5;241m=\u001b[39m \u001b[43mmaskrcnn_resnet50\u001b[49m\u001b[43m(\u001b[49m\u001b[38;5;28;43;01mTrue\u001b[39;49;00m\u001b[43m,\u001b[49m\u001b[43m \u001b[49m\u001b[38;5;241;43m32\u001b[39;49m\u001b[43m \u001b[49m\u001b[38;5;241;43m+\u001b[39;49m\u001b[43m \u001b[49m\u001b[38;5;241;43m1\u001b[39;49m\u001b[43m)\u001b[49m\n",
      "File \u001b[0;32m~/Documents/Projects/tinygrad/models/maskrcnn.py:144\u001b[0m, in \u001b[0;36mmaskrcnn_resnet50\u001b[0;34m(pretrained, num_classes, pretrained_backbone)\u001b[0m\n\u001b[1;32m    141\u001b[0m \u001b[38;5;28;01mif\u001b[39;00m pretrained:\n\u001b[1;32m    142\u001b[0m     backbone_pretrained \u001b[38;5;241m=\u001b[39m \u001b[38;5;28;01mFalse\u001b[39;00m\n\u001b[0;32m--> 144\u001b[0m backbone \u001b[38;5;241m=\u001b[39m \u001b[43mResNetFPN\u001b[49m(ResNet, out_channels\u001b[38;5;241m=\u001b[39m\u001b[38;5;241m256\u001b[39m)\n\u001b[1;32m    145\u001b[0m model \u001b[38;5;241m=\u001b[39m MaskRCNN(backbone, num_classes)\n\u001b[1;32m    147\u001b[0m \u001b[38;5;28;01mif\u001b[39;00m pretrained:\n",
      "\u001b[0;31mNameError\u001b[0m: name 'ResNetFPN' is not defined"
     ]
    }
   ],
   "source": [
    "model = maskrcnn_resnet50(True, 32 + 1)"
   ]
  },
  {
   "cell_type": "code",
   "execution_count": 9,
   "id": "08c506fb",
   "metadata": {},
   "outputs": [],
   "source": [
    "from models.resnet import ResNet"
   ]
  },
  {
   "cell_type": "code",
   "execution_count": null,
   "id": "f31e2e7a",
   "metadata": {},
   "outputs": [],
   "source": []
  }
 ],
 "metadata": {
  "kernelspec": {
   "display_name": "Python 3 (ipykernel)",
   "language": "python",
   "name": "python3"
  },
  "language_info": {
   "codemirror_mode": {
    "name": "ipython",
    "version": 3
   },
   "file_extension": ".py",
   "mimetype": "text/x-python",
   "name": "python",
   "nbconvert_exporter": "python",
   "pygments_lexer": "ipython3",
   "version": "3.9.12"
  }
 },
 "nbformat": 4,
 "nbformat_minor": 5
}
