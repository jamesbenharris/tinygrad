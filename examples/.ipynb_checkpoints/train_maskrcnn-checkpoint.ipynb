{
 "cells": [
  {
   "cell_type": "code",
   "execution_count": 1,
   "id": "dd4056c0",
   "metadata": {},
   "outputs": [
    {
     "name": "stdout",
     "output_type": "stream",
     "text": [
      "/Users/harris/Documents/Projects/tinygrad\n"
     ]
    }
   ],
   "source": [
    "%cd ../\n",
    "#!/usr/bin/env python3\n",
    "import numpy as np\n",
    "from PIL import Image\n",
    "\n",
    "from tinygrad.nn import optim\n",
    "from tinygrad.helpers import getenv\n",
    "from extra.training import train, evaluate"
   ]
  },
  {
   "cell_type": "code",
   "execution_count": 2,
   "id": "ccbd546d",
   "metadata": {},
   "outputs": [],
   "source": [
    "from models.maskrcnn import maskrcnn_resnet50"
   ]
  },
  {
   "cell_type": "code",
   "execution_count": 3,
   "id": "0b1c03b6",
   "metadata": {},
   "outputs": [
    {
     "name": "stdout",
     "output_type": "stream",
     "text": [
      "roi_heads.box_head.fc6.weight 'RoIHeads' object has no attribute 'box_head'\n",
      "roi_heads.box_head.fc6.bias 'RoIHeads' object has no attribute 'box_head'\n",
      "roi_heads.box_head.fc7.weight 'RoIHeads' object has no attribute 'box_head'\n",
      "roi_heads.box_head.fc7.bias 'RoIHeads' object has no attribute 'box_head'\n",
      "roi_heads.mask_head.mask_fcn1.weight 'MaskRCNNHeads' object has no attribute 'mask_fcn1'\n",
      "roi_heads.mask_head.mask_fcn1.bias 'MaskRCNNHeads' object has no attribute 'mask_fcn1'\n",
      "roi_heads.mask_head.mask_fcn2.weight 'MaskRCNNHeads' object has no attribute 'mask_fcn2'\n",
      "roi_heads.mask_head.mask_fcn2.bias 'MaskRCNNHeads' object has no attribute 'mask_fcn2'\n",
      "roi_heads.mask_head.mask_fcn3.weight 'MaskRCNNHeads' object has no attribute 'mask_fcn3'\n",
      "roi_heads.mask_head.mask_fcn3.bias 'MaskRCNNHeads' object has no attribute 'mask_fcn3'\n",
      "roi_heads.mask_head.mask_fcn4.weight 'MaskRCNNHeads' object has no attribute 'mask_fcn4'\n",
      "roi_heads.mask_head.mask_fcn4.bias 'MaskRCNNHeads' object has no attribute 'mask_fcn4'\n"
     ]
    }
   ],
   "source": [
    "model = maskrcnn_resnet50(True, 90 + 1)"
   ]
  },
  {
   "cell_type": "code",
   "execution_count": null,
   "id": "ad013573",
   "metadata": {},
   "outputs": [],
   "source": []
  }
 ],
 "metadata": {
  "kernelspec": {
   "display_name": "Python 3 (ipykernel)",
   "language": "python",
   "name": "python3"
  },
  "language_info": {
   "codemirror_mode": {
    "name": "ipython",
    "version": 3
   },
   "file_extension": ".py",
   "mimetype": "text/x-python",
   "name": "python",
   "nbconvert_exporter": "python",
   "pygments_lexer": "ipython3",
   "version": "3.9.12"
  }
 },
 "nbformat": 4,
 "nbformat_minor": 5
}
